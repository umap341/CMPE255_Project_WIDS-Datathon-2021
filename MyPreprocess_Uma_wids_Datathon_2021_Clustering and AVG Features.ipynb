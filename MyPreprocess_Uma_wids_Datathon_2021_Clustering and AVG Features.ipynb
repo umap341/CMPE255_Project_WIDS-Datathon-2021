{
 "cells": [
  {
   "cell_type": "code",
   "execution_count": 62,
   "metadata": {
    "id": "qSwG6SXjb9O4"
   },
   "outputs": [],
   "source": [
    "import pandas as pd\n",
    "import numpy as np\n",
    "import warnings\n",
    "warnings.simplefilter(\"ignore\")\n",
    "\n",
    "url_1 = 'TrainingWiDS2021.csv'\n",
    "url_2 = 'UnlabeledWiDS2021.csv'"
   ]
  },
  {
   "cell_type": "code",
   "execution_count": 63,
   "metadata": {
    "colab": {
     "base_uri": "https://localhost:8080/",
     "height": 338
    },
    "id": "2ts3yh6Bov2i",
    "outputId": "8f1471fd-8197-4dab-d47d-ec53afad9f4f",
    "scrolled": true
   },
   "outputs": [
    {
     "data": {
      "text/html": [
       "<div>\n",
       "<style scoped>\n",
       "    .dataframe tbody tr th:only-of-type {\n",
       "        vertical-align: middle;\n",
       "    }\n",
       "\n",
       "    .dataframe tbody tr th {\n",
       "        vertical-align: top;\n",
       "    }\n",
       "\n",
       "    .dataframe thead th {\n",
       "        text-align: right;\n",
       "    }\n",
       "</style>\n",
       "<table border=\"1\" class=\"dataframe\">\n",
       "  <thead>\n",
       "    <tr style=\"text-align: right;\">\n",
       "      <th></th>\n",
       "      <th>Unnamed: 0</th>\n",
       "      <th>encounter_id</th>\n",
       "      <th>hospital_id</th>\n",
       "      <th>age</th>\n",
       "      <th>bmi</th>\n",
       "      <th>elective_surgery</th>\n",
       "      <th>ethnicity</th>\n",
       "      <th>gender</th>\n",
       "      <th>height</th>\n",
       "      <th>hospital_admit_source</th>\n",
       "      <th>...</th>\n",
       "      <th>h1_pao2fio2ratio_max</th>\n",
       "      <th>h1_pao2fio2ratio_min</th>\n",
       "      <th>aids</th>\n",
       "      <th>cirrhosis</th>\n",
       "      <th>hepatic_failure</th>\n",
       "      <th>immunosuppression</th>\n",
       "      <th>leukemia</th>\n",
       "      <th>lymphoma</th>\n",
       "      <th>solid_tumor_with_metastasis</th>\n",
       "      <th>diabetes_mellitus</th>\n",
       "    </tr>\n",
       "  </thead>\n",
       "  <tbody>\n",
       "    <tr>\n",
       "      <th>0</th>\n",
       "      <td>1</td>\n",
       "      <td>214826</td>\n",
       "      <td>118</td>\n",
       "      <td>68.0</td>\n",
       "      <td>22.732803</td>\n",
       "      <td>0</td>\n",
       "      <td>Caucasian</td>\n",
       "      <td>M</td>\n",
       "      <td>180.3</td>\n",
       "      <td>Floor</td>\n",
       "      <td>...</td>\n",
       "      <td>NaN</td>\n",
       "      <td>NaN</td>\n",
       "      <td>0</td>\n",
       "      <td>0</td>\n",
       "      <td>0</td>\n",
       "      <td>0</td>\n",
       "      <td>0</td>\n",
       "      <td>0</td>\n",
       "      <td>0</td>\n",
       "      <td>1</td>\n",
       "    </tr>\n",
       "    <tr>\n",
       "      <th>1</th>\n",
       "      <td>2</td>\n",
       "      <td>246060</td>\n",
       "      <td>81</td>\n",
       "      <td>77.0</td>\n",
       "      <td>27.421875</td>\n",
       "      <td>0</td>\n",
       "      <td>Caucasian</td>\n",
       "      <td>F</td>\n",
       "      <td>160.0</td>\n",
       "      <td>Floor</td>\n",
       "      <td>...</td>\n",
       "      <td>51.0</td>\n",
       "      <td>51.0</td>\n",
       "      <td>0</td>\n",
       "      <td>0</td>\n",
       "      <td>0</td>\n",
       "      <td>0</td>\n",
       "      <td>0</td>\n",
       "      <td>0</td>\n",
       "      <td>0</td>\n",
       "      <td>1</td>\n",
       "    </tr>\n",
       "    <tr>\n",
       "      <th>2</th>\n",
       "      <td>3</td>\n",
       "      <td>276985</td>\n",
       "      <td>118</td>\n",
       "      <td>25.0</td>\n",
       "      <td>31.952749</td>\n",
       "      <td>0</td>\n",
       "      <td>Caucasian</td>\n",
       "      <td>F</td>\n",
       "      <td>172.7</td>\n",
       "      <td>Emergency Department</td>\n",
       "      <td>...</td>\n",
       "      <td>NaN</td>\n",
       "      <td>NaN</td>\n",
       "      <td>0</td>\n",
       "      <td>0</td>\n",
       "      <td>0</td>\n",
       "      <td>0</td>\n",
       "      <td>0</td>\n",
       "      <td>0</td>\n",
       "      <td>0</td>\n",
       "      <td>0</td>\n",
       "    </tr>\n",
       "    <tr>\n",
       "      <th>3</th>\n",
       "      <td>4</td>\n",
       "      <td>262220</td>\n",
       "      <td>118</td>\n",
       "      <td>81.0</td>\n",
       "      <td>22.635548</td>\n",
       "      <td>1</td>\n",
       "      <td>Caucasian</td>\n",
       "      <td>F</td>\n",
       "      <td>165.1</td>\n",
       "      <td>Operating Room</td>\n",
       "      <td>...</td>\n",
       "      <td>337.0</td>\n",
       "      <td>337.0</td>\n",
       "      <td>0</td>\n",
       "      <td>0</td>\n",
       "      <td>0</td>\n",
       "      <td>0</td>\n",
       "      <td>0</td>\n",
       "      <td>0</td>\n",
       "      <td>0</td>\n",
       "      <td>0</td>\n",
       "    </tr>\n",
       "    <tr>\n",
       "      <th>4</th>\n",
       "      <td>5</td>\n",
       "      <td>201746</td>\n",
       "      <td>33</td>\n",
       "      <td>19.0</td>\n",
       "      <td>NaN</td>\n",
       "      <td>0</td>\n",
       "      <td>Caucasian</td>\n",
       "      <td>M</td>\n",
       "      <td>188.0</td>\n",
       "      <td>NaN</td>\n",
       "      <td>...</td>\n",
       "      <td>NaN</td>\n",
       "      <td>NaN</td>\n",
       "      <td>0</td>\n",
       "      <td>0</td>\n",
       "      <td>0</td>\n",
       "      <td>0</td>\n",
       "      <td>0</td>\n",
       "      <td>0</td>\n",
       "      <td>0</td>\n",
       "      <td>0</td>\n",
       "    </tr>\n",
       "  </tbody>\n",
       "</table>\n",
       "<p>5 rows × 181 columns</p>\n",
       "</div>"
      ],
      "text/plain": [
       "   Unnamed: 0  encounter_id  hospital_id   age        bmi  elective_surgery  \\\n",
       "0           1        214826          118  68.0  22.732803                 0   \n",
       "1           2        246060           81  77.0  27.421875                 0   \n",
       "2           3        276985          118  25.0  31.952749                 0   \n",
       "3           4        262220          118  81.0  22.635548                 1   \n",
       "4           5        201746           33  19.0        NaN                 0   \n",
       "\n",
       "   ethnicity gender  height hospital_admit_source  ... h1_pao2fio2ratio_max  \\\n",
       "0  Caucasian      M   180.3                 Floor  ...                  NaN   \n",
       "1  Caucasian      F   160.0                 Floor  ...                 51.0   \n",
       "2  Caucasian      F   172.7  Emergency Department  ...                  NaN   \n",
       "3  Caucasian      F   165.1        Operating Room  ...                337.0   \n",
       "4  Caucasian      M   188.0                   NaN  ...                  NaN   \n",
       "\n",
       "   h1_pao2fio2ratio_min aids cirrhosis  hepatic_failure  immunosuppression  \\\n",
       "0                   NaN    0         0                0                  0   \n",
       "1                  51.0    0         0                0                  0   \n",
       "2                   NaN    0         0                0                  0   \n",
       "3                 337.0    0         0                0                  0   \n",
       "4                   NaN    0         0                0                  0   \n",
       "\n",
       "   leukemia  lymphoma  solid_tumor_with_metastasis  diabetes_mellitus  \n",
       "0         0         0                            0                  1  \n",
       "1         0         0                            0                  1  \n",
       "2         0         0                            0                  0  \n",
       "3         0         0                            0                  0  \n",
       "4         0         0                            0                  0  \n",
       "\n",
       "[5 rows x 181 columns]"
      ]
     },
     "execution_count": 63,
     "metadata": {},
     "output_type": "execute_result"
    }
   ],
   "source": [
    "# Splitted data to make same shape of both test and train so that we can apply pre processing on both\n",
    "# Ref : https://www.kaggle.com/siavrez/2020fatures\n",
    "train_df = pd.read_csv(url_1, error_bad_lines=False)\n",
    "test_df  = pd.read_csv(url_2, error_bad_lines=False)\n",
    "target='diabetes_mellitus'\n",
    "y = train_df[\"diabetes_mellitus\"]\n",
    "train_df.head()"
   ]
  },
  {
   "cell_type": "code",
   "execution_count": 64,
   "metadata": {
    "id": "-9Gu4X6cOq3P"
   },
   "outputs": [
    {
     "data": {
      "text/plain": [
       "(130157, 103)"
      ]
     },
     "execution_count": 64,
     "metadata": {},
     "output_type": "execute_result"
    }
   ],
   "source": [
    "# Remove features which has more than 50% percentage of missing values\n",
    "# Return reduced dataset\n",
    "\n",
    "def drop_NaN_Values(df, threshold):\n",
    "    NaN_cols = []\n",
    "    for col in df.columns:\n",
    "        NaN_ratio = df[col].isnull().sum() / df.shape[0]\n",
    "        if NaN_ratio >= threshold:\n",
    "            NaN_cols.append(col)\n",
    "    df = df.drop(NaN_cols, axis=1)\n",
    "    return df,NaN_cols\n",
    "\n",
    "train_df_reduced,NaN_columns = drop_NaN_Values(train_df.copy(), 0.5)\n",
    "train_df_reduced.drop(['readmission_status','Unnamed: 0','encounter_id','hospital_id','icu_id'], axis=1,inplace=True)\n",
    "train_df_reduced.shape\n"
   ]
  },
  {
   "cell_type": "markdown",
   "metadata": {},
   "source": [
    "Imputing:"
   ]
  },
  {
   "cell_type": "code",
   "execution_count": 65,
   "metadata": {},
   "outputs": [
    {
     "data": {
      "text/plain": [
       "(130157, 103)"
      ]
     },
     "execution_count": 65,
     "metadata": {},
     "output_type": "execute_result"
    }
   ],
   "source": [
    "# we can apply random sample imputation in Ethnicity,icu_admit_source and hospital_admit_source to maintain the distribution\n",
    "#categorical_features = [feature for feature in train_df_reduced.columns if train_df_reduced[feature].dtype == 'O']\n",
    "def impute_random(df, col):\n",
    "    random_sample = df[col].dropna().sample(df[col].isnull().sum(), random_state=0)\n",
    "    random_sample.index = df[df[col].isnull()].index\n",
    "    df.loc[df[col].isnull(), col] = random_sample\n",
    "    \n",
    "impute_random(train_df_reduced, 'ethnicity')\n",
    "impute_random(train_df_reduced, 'icu_admit_source') \n",
    "impute_random(train_df_reduced, 'hospital_admit_source')\n",
    "\n",
    "train_df_reduced[\"age\"] = np.where(train_df_reduced[target] == 1, train_df_reduced[\"age\"].fillna(66), train_df_reduced[\"age\"].fillna(63))\n",
    "train_df_reduced['gender'].fillna(train_df_reduced['gender'].mode()[0], inplace=True)\n",
    "\n",
    "#impute bmi\n",
    "def fill_bmi(df):\n",
    "    train_df_reduced['bmi'] = np.where(train_df_reduced['bmi'].isnull(), train_df_reduced['weight']/ (train_df_reduced['height']/100)**2, train_df_reduced['bmi'])   \n",
    "fill_bmi(train_df_reduced)\n",
    "\n",
    "#impute height with 170 as mean and median both\n",
    "train_df_reduced[\"height\"] = train_df_reduced[\"height\"].fillna(170)\n",
    "\n",
    "# impute weight wrt target\n",
    "train_df_reduced[\"weight\"] = np.where(train_df_reduced[target] == 1, train_df_reduced[\"weight\"].fillna(91), train_df_reduced[\"weight\"].fillna(82))\n",
    "train_df_reduced['gcs_unable_apache'].fillna(train_df_reduced['gcs_unable_apache'].median(), inplace=True)\n",
    "\n",
    "#train_df_reduced['bmi'] = train_df_reduced['bmi'].fillna(train_df_reduced['bmi'].mean())\n",
    "train_df_reduced.shape"
   ]
  },
  {
   "cell_type": "code",
   "execution_count": 66,
   "metadata": {},
   "outputs": [
    {
     "name": "stdout",
     "output_type": "stream",
     "text": [
      "Percent of Nans: 6.04\n"
     ]
    }
   ],
   "source": [
    "print(f'Percent of Nans: {round(train_df_reduced.copy().isna().sum().sum()/len(train_df_reduced.copy()), 2)}')"
   ]
  },
  {
   "cell_type": "code",
   "execution_count": 67,
   "metadata": {},
   "outputs": [],
   "source": [
    "categorical_features = [feature for feature in train_df_reduced.columns if train_df_reduced[feature].dtype == 'O']\n",
    "numerical_features = [feature for feature in train_df_reduced.columns if train_df_reduced[feature].dtype != 'O']\n",
    "binary_features = [feature for feature in numerical_features if train_df_reduced[feature].nunique() == 2]\n",
    "cont_features = [feature for feature in numerical_features if feature not in binary_features]"
   ]
  },
  {
   "cell_type": "code",
   "execution_count": null,
   "metadata": {},
   "outputs": [],
   "source": []
  },
  {
   "cell_type": "code",
   "execution_count": 68,
   "metadata": {},
   "outputs": [
    {
     "name": "stdout",
     "output_type": "stream",
     "text": [
      "total features:  62\n",
      "max:  31\n",
      "min:  31\n",
      "31\n"
     ]
    }
   ],
   "source": [
    "# Working on Continuous features. Creating a copy of main DS to work on it seperately.\n",
    "\n",
    "max_min_df = train_df_reduced[cont_features].copy()\n",
    "\n",
    "max_min_features = [feature for feature in cont_features if 'max' in feature or 'min' in feature and feature not in \"albumin_apache\"]\n",
    "print(\"total features: \",len(max_min_features))\n",
    "\n",
    "\n",
    "#separate out the max and min features\n",
    "max_features = [feature for feature in max_min_features if \"max\" in feature]\n",
    "min_features = [feature for feature in max_min_features if \"min\" in feature]\n",
    "print(\"max: \",len(max_features))\n",
    "print(\"min: \",len(min_features))\n",
    "\n",
    "# take the average and add them to the data.\n",
    "for i in range(0,len(max_features)):\n",
    "    col = \"_\".join(min_features[i].split(\"_\")[:-1]) + \"_avg\"\n",
    "    avg = (max_min_df[min_features[i]] +  max_min_df[max_features[i]]) / 2\n",
    "    max_min_df[col] = avg\n",
    "\n",
    "# we got our average features, now remove the max and min features from data\n",
    "max_min_df.drop(max_features, axis=1, inplace=True)\n",
    "max_min_df.drop(min_features, axis=1, inplace=True)\n",
    "\n",
    "# we have reduce a 31 features, which is better then PCA too.\n",
    "max_min_df.shape\n",
    "\n",
    "avg_features = [feature for feature in max_min_df.columns if 'avg' in feature]\n",
    "print(len(avg_features))\n",
    "\n",
    "\n",
    "#let's see the percentage of missing values, if % will be less ten 30 then we will impute it.\n",
    "miss_nan = max_min_df[avg_features].isnull().sum() / len(max_min_df) * 100\n",
    "miss_nan.sort_values(ascending=False).to_frame().head(10)\n",
    "\n",
    "#drop the feature which are having missing greater then 30%\n",
    "great_30 = miss_nan[miss_nan[:] > 30].index\n",
    "max_min_df.drop(great_30, axis=1, inplace=True)\n",
    "\n",
    "less_30 = miss_nan[miss_nan[:] < 30].index\n",
    "# as we have taken the avg, so just fill it with mean now.\n",
    "for col in less_30:\n",
    "    max_min_df[col] = max_min_df[col].fillna(max_min_df[col].mean())"
   ]
  },
  {
   "cell_type": "markdown",
   "metadata": {},
   "source": [
    "Imputing numerical features"
   ]
  },
  {
   "cell_type": "code",
   "execution_count": 69,
   "metadata": {},
   "outputs": [
    {
     "name": "stdout",
     "output_type": "stream",
     "text": [
      "total other features then AVG:  21\n"
     ]
    },
    {
     "data": {
      "text/plain": [
       "(130157, 103)"
      ]
     },
     "execution_count": 69,
     "metadata": {},
     "output_type": "execute_result"
    }
   ],
   "source": [
    "#Working on Numerarical features other than the min max features\n",
    "other_nan_col = [feature for feature in max_min_df.columns if \"avg\" not in feature]\n",
    "print(\"total other features then AVG: \", len(other_nan_col))\n",
    "\n",
    "for col in other_nan_col:\n",
    "    max_min_df[col] = max_min_df[col].fillna(max_min_df[col].mean())\n",
    "\n",
    "#check if any null values remaining\n",
    "#max_min_df.isnull().sum().sum()\n",
    "\n",
    "train_df_reduced.shape"
   ]
  },
  {
   "cell_type": "markdown",
   "metadata": {},
   "source": [
    "Concat the mydata back to training data and proceed further"
   ]
  },
  {
   "cell_type": "code",
   "execution_count": 70,
   "metadata": {},
   "outputs": [],
   "source": [
    "#first we have to free all the cont features from cont then concat it\n",
    "train_df_reduced.drop(cont_features,axis=1, inplace=True)\n",
    "\n",
    "# concat max_min_df to train\n",
    "train_df_reduced = pd.concat([train_df_reduced, max_min_df], axis=1)"
   ]
  },
  {
   "cell_type": "code",
   "execution_count": 71,
   "metadata": {},
   "outputs": [
    {
     "data": {
      "text/plain": [
       "(130157, 72)"
      ]
     },
     "execution_count": 71,
     "metadata": {},
     "output_type": "execute_result"
    }
   ],
   "source": [
    "train_df_reduced.shape"
   ]
  },
  {
   "cell_type": "code",
   "execution_count": 72,
   "metadata": {
    "scrolled": true
   },
   "outputs": [
    {
     "data": {
      "text/html": [
       "<div>\n",
       "<style scoped>\n",
       "    .dataframe tbody tr th:only-of-type {\n",
       "        vertical-align: middle;\n",
       "    }\n",
       "\n",
       "    .dataframe tbody tr th {\n",
       "        vertical-align: top;\n",
       "    }\n",
       "\n",
       "    .dataframe thead th {\n",
       "        text-align: right;\n",
       "    }\n",
       "</style>\n",
       "<table border=\"1\" class=\"dataframe\">\n",
       "  <thead>\n",
       "    <tr style=\"text-align: right;\">\n",
       "      <th></th>\n",
       "      <th>ethnicity</th>\n",
       "      <th>gender</th>\n",
       "      <th>hospital_admit_source</th>\n",
       "      <th>icu_admit_source</th>\n",
       "      <th>icu_stay_type</th>\n",
       "      <th>icu_type</th>\n",
       "    </tr>\n",
       "  </thead>\n",
       "  <tbody>\n",
       "    <tr>\n",
       "      <th>0</th>\n",
       "      <td>0</td>\n",
       "      <td>0</td>\n",
       "      <td>2</td>\n",
       "      <td>2</td>\n",
       "      <td>0</td>\n",
       "      <td>7</td>\n",
       "    </tr>\n",
       "    <tr>\n",
       "      <th>1</th>\n",
       "      <td>0</td>\n",
       "      <td>1</td>\n",
       "      <td>2</td>\n",
       "      <td>2</td>\n",
       "      <td>0</td>\n",
       "      <td>0</td>\n",
       "    </tr>\n",
       "  </tbody>\n",
       "</table>\n",
       "</div>"
      ],
      "text/plain": [
       "   ethnicity  gender  hospital_admit_source  icu_admit_source  icu_stay_type  \\\n",
       "0          0       0                      2                 2              0   \n",
       "1          0       1                      2                 2              0   \n",
       "\n",
       "   icu_type  \n",
       "0         7  \n",
       "1         0  "
      ]
     },
     "execution_count": 72,
     "metadata": {},
     "output_type": "execute_result"
    }
   ],
   "source": [
    "#Working on Categorical features\n",
    "\n",
    "train_df_reduced['gender'] = train_df_reduced['gender'].map({'M':0,'F':1})\n",
    "\n",
    "# let's encode the feature using Integer label encoding\n",
    "# we will use value_counts to know, how it is encoded, you can also use unique()\n",
    "cat_cols = ['ethnicity', 'hospital_admit_source','icu_admit_source','icu_stay_type','icu_type']\n",
    "for col in cat_cols:\n",
    "    map_dict = {k: i for i, k in enumerate(train_df_reduced[col].value_counts().index, 0)}\n",
    "    train_df_reduced[col] = train_df_reduced[col].map(map_dict)\n",
    "\n",
    "train_df_reduced[categorical_features].head(2)"
   ]
  },
  {
   "cell_type": "code",
   "execution_count": 73,
   "metadata": {
    "scrolled": true
   },
   "outputs": [
    {
     "name": "stdout",
     "output_type": "stream",
     "text": [
      "Percent of Nans: 0.0\n"
     ]
    }
   ],
   "source": [
    "print(f'Percent of Nans: {round(train_df_reduced.copy().isna().sum().sum()/len(train_df_reduced.copy()), 2)}')"
   ]
  },
  {
   "cell_type": "code",
   "execution_count": 74,
   "metadata": {},
   "outputs": [
    {
     "data": {
      "image/png": "[encoded data removed]",
      "text/plain": [
       "<Figure size 432x288 with 1 Axes>"
      ]
     },
     "metadata": {},
     "output_type": "display_data"
    }
   ],
   "source": [
    "from sklearn.utils import resample\n",
    "\n",
    "#The dataset is skewed towards class 0, so,balace the dataset.\n",
    "df_majority = train_df_reduced[train_df_reduced['diabetes_mellitus']==0]\n",
    "df_minority = train_df_reduced[train_df_reduced['diabetes_mellitus']==1]\n",
    "\n",
    "# Upsampling\n",
    "df_minority_upsampled = resample(df_minority,\n",
    "                                 replace=True,       # sample with replacement\n",
    "                                 n_samples=83798,    # to match majority class\n",
    "                                 random_state= 303)  # reproducible results\n",
    " \n",
    "# Combine majority class with upsampled minority class\n",
    "df_upsampled = pd.concat([df_majority, df_minority_upsampled])\n",
    " \n",
    "# Display new class counts\n",
    "df_upsampled.diabetes_mellitus.value_counts()\n",
    "df_upsampled[target].value_counts().plot(kind=\"pie\", explode=[0,0.1], autopct=\"%.2f\", labels=[\"No\",\"Yes\"])\n",
    "plt.show()"
   ]
  },
  {
   "cell_type": "code",
   "execution_count": 75,
   "metadata": {},
   "outputs": [
    {
     "data": {
      "text/html": [
       "<div>\n",
       "<style scoped>\n",
       "    .dataframe tbody tr th:only-of-type {\n",
       "        vertical-align: middle;\n",
       "    }\n",
       "\n",
       "    .dataframe tbody tr th {\n",
       "        vertical-align: top;\n",
       "    }\n",
       "\n",
       "    .dataframe thead th {\n",
       "        text-align: right;\n",
       "    }\n",
       "</style>\n",
       "<table border=\"1\" class=\"dataframe\">\n",
       "  <thead>\n",
       "    <tr style=\"text-align: right;\">\n",
       "      <th></th>\n",
       "      <th>elective_surgery</th>\n",
       "      <th>ethnicity</th>\n",
       "      <th>gender</th>\n",
       "      <th>hospital_admit_source</th>\n",
       "      <th>icu_admit_source</th>\n",
       "      <th>icu_stay_type</th>\n",
       "      <th>icu_type</th>\n",
       "      <th>apache_post_operative</th>\n",
       "      <th>arf_apache</th>\n",
       "      <th>gcs_unable_apache</th>\n",
       "      <th>...</th>\n",
       "      <th>d1_calcium_avg</th>\n",
       "      <th>d1_creatinine_avg</th>\n",
       "      <th>d1_glucose_avg</th>\n",
       "      <th>d1_hco3_avg</th>\n",
       "      <th>d1_hemaglobin_avg</th>\n",
       "      <th>d1_hematocrit_avg</th>\n",
       "      <th>d1_platelets_avg</th>\n",
       "      <th>d1_potassium_avg</th>\n",
       "      <th>d1_sodium_avg</th>\n",
       "      <th>d1_wbc_avg</th>\n",
       "    </tr>\n",
       "  </thead>\n",
       "  <tbody>\n",
       "    <tr>\n",
       "      <th>2</th>\n",
       "      <td>0</td>\n",
       "      <td>0</td>\n",
       "      <td>1</td>\n",
       "      <td>0</td>\n",
       "      <td>0</td>\n",
       "      <td>0</td>\n",
       "      <td>0</td>\n",
       "      <td>0</td>\n",
       "      <td>0</td>\n",
       "      <td>0.0</td>\n",
       "      <td>...</td>\n",
       "      <td>8.272228</td>\n",
       "      <td>1.428663</td>\n",
       "      <td>144.295056</td>\n",
       "      <td>23.822608</td>\n",
       "      <td>11.180651</td>\n",
       "      <td>33.747567</td>\n",
       "      <td>200.404226</td>\n",
       "      <td>4.091154</td>\n",
       "      <td>138.42086</td>\n",
       "      <td>11.91912</td>\n",
       "    </tr>\n",
       "    <tr>\n",
       "      <th>3</th>\n",
       "      <td>1</td>\n",
       "      <td>0</td>\n",
       "      <td>1</td>\n",
       "      <td>1</td>\n",
       "      <td>1</td>\n",
       "      <td>0</td>\n",
       "      <td>7</td>\n",
       "      <td>1</td>\n",
       "      <td>0</td>\n",
       "      <td>0.0</td>\n",
       "      <td>...</td>\n",
       "      <td>8.272228</td>\n",
       "      <td>1.428663</td>\n",
       "      <td>136.500000</td>\n",
       "      <td>23.822608</td>\n",
       "      <td>10.250000</td>\n",
       "      <td>29.950000</td>\n",
       "      <td>120.500000</td>\n",
       "      <td>4.250000</td>\n",
       "      <td>138.42086</td>\n",
       "      <td>8.50000</td>\n",
       "    </tr>\n",
       "    <tr>\n",
       "      <th>4</th>\n",
       "      <td>0</td>\n",
       "      <td>0</td>\n",
       "      <td>0</td>\n",
       "      <td>0</td>\n",
       "      <td>0</td>\n",
       "      <td>0</td>\n",
       "      <td>0</td>\n",
       "      <td>0</td>\n",
       "      <td>0</td>\n",
       "      <td>0.0</td>\n",
       "      <td>...</td>\n",
       "      <td>8.272228</td>\n",
       "      <td>1.428663</td>\n",
       "      <td>144.295056</td>\n",
       "      <td>23.822608</td>\n",
       "      <td>11.180651</td>\n",
       "      <td>33.747567</td>\n",
       "      <td>200.404226</td>\n",
       "      <td>4.091154</td>\n",
       "      <td>138.42086</td>\n",
       "      <td>11.91912</td>\n",
       "    </tr>\n",
       "    <tr>\n",
       "      <th>7</th>\n",
       "      <td>0</td>\n",
       "      <td>0</td>\n",
       "      <td>0</td>\n",
       "      <td>0</td>\n",
       "      <td>0</td>\n",
       "      <td>0</td>\n",
       "      <td>0</td>\n",
       "      <td>0</td>\n",
       "      <td>0</td>\n",
       "      <td>0.0</td>\n",
       "      <td>...</td>\n",
       "      <td>7.800000</td>\n",
       "      <td>2.050000</td>\n",
       "      <td>129.000000</td>\n",
       "      <td>29.000000</td>\n",
       "      <td>7.800000</td>\n",
       "      <td>25.500000</td>\n",
       "      <td>260.000000</td>\n",
       "      <td>4.100000</td>\n",
       "      <td>140.00000</td>\n",
       "      <td>12.80000</td>\n",
       "    </tr>\n",
       "    <tr>\n",
       "      <th>8</th>\n",
       "      <td>0</td>\n",
       "      <td>0</td>\n",
       "      <td>0</td>\n",
       "      <td>5</td>\n",
       "      <td>3</td>\n",
       "      <td>0</td>\n",
       "      <td>1</td>\n",
       "      <td>0</td>\n",
       "      <td>0</td>\n",
       "      <td>0.0</td>\n",
       "      <td>...</td>\n",
       "      <td>7.300000</td>\n",
       "      <td>1.160000</td>\n",
       "      <td>326.500000</td>\n",
       "      <td>23.000000</td>\n",
       "      <td>12.300000</td>\n",
       "      <td>37.900000</td>\n",
       "      <td>226.000000</td>\n",
       "      <td>5.200000</td>\n",
       "      <td>142.00000</td>\n",
       "      <td>24.70000</td>\n",
       "    </tr>\n",
       "    <tr>\n",
       "      <th>...</th>\n",
       "      <td>...</td>\n",
       "      <td>...</td>\n",
       "      <td>...</td>\n",
       "      <td>...</td>\n",
       "      <td>...</td>\n",
       "      <td>...</td>\n",
       "      <td>...</td>\n",
       "      <td>...</td>\n",
       "      <td>...</td>\n",
       "      <td>...</td>\n",
       "      <td>...</td>\n",
       "      <td>...</td>\n",
       "      <td>...</td>\n",
       "      <td>...</td>\n",
       "      <td>...</td>\n",
       "      <td>...</td>\n",
       "      <td>...</td>\n",
       "      <td>...</td>\n",
       "      <td>...</td>\n",
       "      <td>...</td>\n",
       "      <td>...</td>\n",
       "    </tr>\n",
       "    <tr>\n",
       "      <th>40538</th>\n",
       "      <td>0</td>\n",
       "      <td>1</td>\n",
       "      <td>1</td>\n",
       "      <td>2</td>\n",
       "      <td>0</td>\n",
       "      <td>0</td>\n",
       "      <td>4</td>\n",
       "      <td>0</td>\n",
       "      <td>0</td>\n",
       "      <td>0.0</td>\n",
       "      <td>...</td>\n",
       "      <td>8.272228</td>\n",
       "      <td>1.428663</td>\n",
       "      <td>144.295056</td>\n",
       "      <td>23.822608</td>\n",
       "      <td>11.180651</td>\n",
       "      <td>33.747567</td>\n",
       "      <td>200.404226</td>\n",
       "      <td>4.091154</td>\n",
       "      <td>138.42086</td>\n",
       "      <td>11.91912</td>\n",
       "    </tr>\n",
       "    <tr>\n",
       "      <th>59679</th>\n",
       "      <td>0</td>\n",
       "      <td>0</td>\n",
       "      <td>1</td>\n",
       "      <td>3</td>\n",
       "      <td>0</td>\n",
       "      <td>0</td>\n",
       "      <td>2</td>\n",
       "      <td>0</td>\n",
       "      <td>0</td>\n",
       "      <td>0.0</td>\n",
       "      <td>...</td>\n",
       "      <td>8.700000</td>\n",
       "      <td>1.830000</td>\n",
       "      <td>136.000000</td>\n",
       "      <td>20.000000</td>\n",
       "      <td>13.400000</td>\n",
       "      <td>41.200000</td>\n",
       "      <td>267.500000</td>\n",
       "      <td>4.600000</td>\n",
       "      <td>135.00000</td>\n",
       "      <td>21.09500</td>\n",
       "    </tr>\n",
       "    <tr>\n",
       "      <th>31657</th>\n",
       "      <td>0</td>\n",
       "      <td>0</td>\n",
       "      <td>1</td>\n",
       "      <td>2</td>\n",
       "      <td>2</td>\n",
       "      <td>0</td>\n",
       "      <td>0</td>\n",
       "      <td>0</td>\n",
       "      <td>0</td>\n",
       "      <td>0.0</td>\n",
       "      <td>...</td>\n",
       "      <td>8.400000</td>\n",
       "      <td>2.450000</td>\n",
       "      <td>249.000000</td>\n",
       "      <td>23.000000</td>\n",
       "      <td>10.500000</td>\n",
       "      <td>34.500000</td>\n",
       "      <td>152.000000</td>\n",
       "      <td>4.600000</td>\n",
       "      <td>133.00000</td>\n",
       "      <td>15.30000</td>\n",
       "    </tr>\n",
       "    <tr>\n",
       "      <th>57773</th>\n",
       "      <td>0</td>\n",
       "      <td>0</td>\n",
       "      <td>0</td>\n",
       "      <td>3</td>\n",
       "      <td>0</td>\n",
       "      <td>0</td>\n",
       "      <td>2</td>\n",
       "      <td>0</td>\n",
       "      <td>0</td>\n",
       "      <td>0.0</td>\n",
       "      <td>...</td>\n",
       "      <td>8.900000</td>\n",
       "      <td>0.790000</td>\n",
       "      <td>278.000000</td>\n",
       "      <td>26.000000</td>\n",
       "      <td>12.800000</td>\n",
       "      <td>38.400000</td>\n",
       "      <td>207.000000</td>\n",
       "      <td>3.900000</td>\n",
       "      <td>135.00000</td>\n",
       "      <td>8.39000</td>\n",
       "    </tr>\n",
       "    <tr>\n",
       "      <th>111261</th>\n",
       "      <td>0</td>\n",
       "      <td>0</td>\n",
       "      <td>1</td>\n",
       "      <td>0</td>\n",
       "      <td>2</td>\n",
       "      <td>0</td>\n",
       "      <td>0</td>\n",
       "      <td>0</td>\n",
       "      <td>0</td>\n",
       "      <td>0.0</td>\n",
       "      <td>...</td>\n",
       "      <td>9.400000</td>\n",
       "      <td>0.800000</td>\n",
       "      <td>179.500000</td>\n",
       "      <td>25.000000</td>\n",
       "      <td>14.100000</td>\n",
       "      <td>42.900000</td>\n",
       "      <td>187.500000</td>\n",
       "      <td>4.100000</td>\n",
       "      <td>137.00000</td>\n",
       "      <td>12.20000</td>\n",
       "    </tr>\n",
       "  </tbody>\n",
       "</table>\n",
       "<p>185804 rows × 72 columns</p>\n",
       "</div>"
      ],
      "text/plain": [
       "        elective_surgery  ethnicity  gender  hospital_admit_source  \\\n",
       "2                      0          0       1                      0   \n",
       "3                      1          0       1                      1   \n",
       "4                      0          0       0                      0   \n",
       "7                      0          0       0                      0   \n",
       "8                      0          0       0                      5   \n",
       "...                  ...        ...     ...                    ...   \n",
       "40538                  0          1       1                      2   \n",
       "59679                  0          0       1                      3   \n",
       "31657                  0          0       1                      2   \n",
       "57773                  0          0       0                      3   \n",
       "111261                 0          0       1                      0   \n",
       "\n",
       "        icu_admit_source  icu_stay_type  icu_type  apache_post_operative  \\\n",
       "2                      0              0         0                      0   \n",
       "3                      1              0         7                      1   \n",
       "4                      0              0         0                      0   \n",
       "7                      0              0         0                      0   \n",
       "8                      3              0         1                      0   \n",
       "...                  ...            ...       ...                    ...   \n",
       "40538                  0              0         4                      0   \n",
       "59679                  0              0         2                      0   \n",
       "31657                  2              0         0                      0   \n",
       "57773                  0              0         2                      0   \n",
       "111261                 2              0         0                      0   \n",
       "\n",
       "        arf_apache  gcs_unable_apache  ...  d1_calcium_avg  d1_creatinine_avg  \\\n",
       "2                0                0.0  ...        8.272228           1.428663   \n",
       "3                0                0.0  ...        8.272228           1.428663   \n",
       "4                0                0.0  ...        8.272228           1.428663   \n",
       "7                0                0.0  ...        7.800000           2.050000   \n",
       "8                0                0.0  ...        7.300000           1.160000   \n",
       "...            ...                ...  ...             ...                ...   \n",
       "40538            0                0.0  ...        8.272228           1.428663   \n",
       "59679            0                0.0  ...        8.700000           1.830000   \n",
       "31657            0                0.0  ...        8.400000           2.450000   \n",
       "57773            0                0.0  ...        8.900000           0.790000   \n",
       "111261           0                0.0  ...        9.400000           0.800000   \n",
       "\n",
       "        d1_glucose_avg  d1_hco3_avg  d1_hemaglobin_avg  d1_hematocrit_avg  \\\n",
       "2           144.295056    23.822608          11.180651          33.747567   \n",
       "3           136.500000    23.822608          10.250000          29.950000   \n",
       "4           144.295056    23.822608          11.180651          33.747567   \n",
       "7           129.000000    29.000000           7.800000          25.500000   \n",
       "8           326.500000    23.000000          12.300000          37.900000   \n",
       "...                ...          ...                ...                ...   \n",
       "40538       144.295056    23.822608          11.180651          33.747567   \n",
       "59679       136.000000    20.000000          13.400000          41.200000   \n",
       "31657       249.000000    23.000000          10.500000          34.500000   \n",
       "57773       278.000000    26.000000          12.800000          38.400000   \n",
       "111261      179.500000    25.000000          14.100000          42.900000   \n",
       "\n",
       "        d1_platelets_avg  d1_potassium_avg  d1_sodium_avg  d1_wbc_avg  \n",
       "2             200.404226          4.091154      138.42086    11.91912  \n",
       "3             120.500000          4.250000      138.42086     8.50000  \n",
       "4             200.404226          4.091154      138.42086    11.91912  \n",
       "7             260.000000          4.100000      140.00000    12.80000  \n",
       "8             226.000000          5.200000      142.00000    24.70000  \n",
       "...                  ...               ...            ...         ...  \n",
       "40538         200.404226          4.091154      138.42086    11.91912  \n",
       "59679         267.500000          4.600000      135.00000    21.09500  \n",
       "31657         152.000000          4.600000      133.00000    15.30000  \n",
       "57773         207.000000          3.900000      135.00000     8.39000  \n",
       "111261        187.500000          4.100000      137.00000    12.20000  \n",
       "\n",
       "[185804 rows x 72 columns]"
      ]
     },
     "execution_count": 75,
     "metadata": {},
     "output_type": "execute_result"
    }
   ],
   "source": [
    "df_upsampled"
   ]
  },
  {
   "cell_type": "code",
   "execution_count": 76,
   "metadata": {},
   "outputs": [
    {
     "data": {
      "image/png": "[encoded data removed]",
      "text/plain": [
       "<Figure size 432x288 with 1 Axes>"
      ]
     },
     "metadata": {
      "needs_background": "light"
     },
     "output_type": "display_data"
    }
   ],
   "source": [
    "# plot elbow curve\n",
    "from sklearn.cluster import KMeans\n",
    "from sklearn.preprocessing import StandardScaler\n",
    "import scipy.cluster.hierarchy as hcluster\n",
    "from sklearn.cluster import AgglomerativeClustering\n",
    "import matplotlib.pyplot as plt\n",
    "\n",
    "#drop country column\n",
    "data=df_upsampled.drop(['ethnicity'],axis=1)\n",
    "\n",
    "#scaling data\n",
    "scaling=StandardScaler()\n",
    "scaled=scaling.fit_transform(data)\n",
    "\n",
    "scaled_df=pd.DataFrame(scaled,columns=data.columns)\n",
    "\n",
    "# princt scaled dataset\n",
    "scaled_df.head()\n",
    "\n",
    "a=[]\n",
    "K=range(1,12)\n",
    "for i in K:\n",
    "    kmean=KMeans(n_clusters=i)\n",
    "    kmean.fit(data)\n",
    "    a.append(kmean.inertia_)\n",
    "    \n",
    "plt.plot(K,a,marker='o')\n",
    "plt.title('Elbow Method',fontsize=15)\n",
    "plt.xlabel('Number of clusters',fontsize=15)\n",
    "plt.ylabel('Sum of Squared distance',fontsize=15)\n",
    "plt.show()"
   ]
  },
  {
   "cell_type": "code",
   "execution_count": 77,
   "metadata": {},
   "outputs": [
    {
     "data": {
      "text/plain": [
       "KMeans(n_clusters=4, random_state=111)"
      ]
     },
     "execution_count": 77,
     "metadata": {},
     "output_type": "execute_result"
    }
   ],
   "source": [
    "#chosing no. of clusters as 4 and refitting kmeans model\n",
    "kmeans = KMeans(n_clusters = 4,random_state = 111)\n",
    "kmeans.fit(scaled_df)"
   ]
  },
  {
   "cell_type": "code",
   "execution_count": 78,
   "metadata": {},
   "outputs": [
    {
     "data": {
      "text/plain": [
       "3    73242\n",
       "1    56272\n",
       "2    33668\n",
       "0    22622\n",
       "dtype: int64"
      ]
     },
     "execution_count": 78,
     "metadata": {},
     "output_type": "execute_result"
    }
   ],
   "source": [
    "#count number of records in every cluster\n",
    "pd.Series(kmeans.labels_).value_counts()"
   ]
  },
  {
   "cell_type": "code",
   "execution_count": 79,
   "metadata": {},
   "outputs": [
    {
     "data": {
      "text/plain": [
       "0.06670797943091242"
      ]
     },
     "execution_count": 79,
     "metadata": {},
     "output_type": "execute_result"
    }
   ],
   "source": [
    "#calculate how good our model is\n",
    "#calculate Silhouette Coefficient for K=4\n",
    "from sklearn import metrics\n",
    "\n",
    "metrics.silhouette_score(scaled_df, kmeans.labels_)"
   ]
  },
  {
   "cell_type": "code",
   "execution_count": 80,
   "metadata": {
    "scrolled": false
   },
   "outputs": [
    {
     "data": {
      "text/html": [
       "<div>\n",
       "<style scoped>\n",
       "    .dataframe tbody tr th:only-of-type {\n",
       "        vertical-align: middle;\n",
       "    }\n",
       "\n",
       "    .dataframe tbody tr th {\n",
       "        vertical-align: top;\n",
       "    }\n",
       "\n",
       "    .dataframe thead th {\n",
       "        text-align: right;\n",
       "    }\n",
       "</style>\n",
       "<table border=\"1\" class=\"dataframe\">\n",
       "  <thead>\n",
       "    <tr style=\"text-align: right;\">\n",
       "      <th></th>\n",
       "      <th>elective_surgery</th>\n",
       "      <th>ethnicity</th>\n",
       "      <th>gender</th>\n",
       "      <th>hospital_admit_source</th>\n",
       "      <th>icu_admit_source</th>\n",
       "      <th>icu_stay_type</th>\n",
       "      <th>icu_type</th>\n",
       "      <th>apache_post_operative</th>\n",
       "      <th>arf_apache</th>\n",
       "      <th>gcs_unable_apache</th>\n",
       "      <th>...</th>\n",
       "      <th>d1_creatinine_avg</th>\n",
       "      <th>d1_glucose_avg</th>\n",
       "      <th>d1_hco3_avg</th>\n",
       "      <th>d1_hemaglobin_avg</th>\n",
       "      <th>d1_hematocrit_avg</th>\n",
       "      <th>d1_platelets_avg</th>\n",
       "      <th>d1_potassium_avg</th>\n",
       "      <th>d1_sodium_avg</th>\n",
       "      <th>d1_wbc_avg</th>\n",
       "      <th>KMeans_Cluster</th>\n",
       "    </tr>\n",
       "  </thead>\n",
       "  <tbody>\n",
       "    <tr>\n",
       "      <th>2</th>\n",
       "      <td>0</td>\n",
       "      <td>0</td>\n",
       "      <td>1</td>\n",
       "      <td>0</td>\n",
       "      <td>0</td>\n",
       "      <td>0</td>\n",
       "      <td>0</td>\n",
       "      <td>0</td>\n",
       "      <td>0</td>\n",
       "      <td>0.0</td>\n",
       "      <td>...</td>\n",
       "      <td>1.428663</td>\n",
       "      <td>144.295056</td>\n",
       "      <td>23.822608</td>\n",
       "      <td>11.180651</td>\n",
       "      <td>33.747567</td>\n",
       "      <td>200.404226</td>\n",
       "      <td>4.091154</td>\n",
       "      <td>138.42086</td>\n",
       "      <td>11.91912</td>\n",
       "      <td>3</td>\n",
       "    </tr>\n",
       "    <tr>\n",
       "      <th>3</th>\n",
       "      <td>1</td>\n",
       "      <td>0</td>\n",
       "      <td>1</td>\n",
       "      <td>1</td>\n",
       "      <td>1</td>\n",
       "      <td>0</td>\n",
       "      <td>7</td>\n",
       "      <td>1</td>\n",
       "      <td>0</td>\n",
       "      <td>0.0</td>\n",
       "      <td>...</td>\n",
       "      <td>1.428663</td>\n",
       "      <td>136.500000</td>\n",
       "      <td>23.822608</td>\n",
       "      <td>10.250000</td>\n",
       "      <td>29.950000</td>\n",
       "      <td>120.500000</td>\n",
       "      <td>4.250000</td>\n",
       "      <td>138.42086</td>\n",
       "      <td>8.50000</td>\n",
       "      <td>2</td>\n",
       "    </tr>\n",
       "    <tr>\n",
       "      <th>4</th>\n",
       "      <td>0</td>\n",
       "      <td>0</td>\n",
       "      <td>0</td>\n",
       "      <td>0</td>\n",
       "      <td>0</td>\n",
       "      <td>0</td>\n",
       "      <td>0</td>\n",
       "      <td>0</td>\n",
       "      <td>0</td>\n",
       "      <td>0.0</td>\n",
       "      <td>...</td>\n",
       "      <td>1.428663</td>\n",
       "      <td>144.295056</td>\n",
       "      <td>23.822608</td>\n",
       "      <td>11.180651</td>\n",
       "      <td>33.747567</td>\n",
       "      <td>200.404226</td>\n",
       "      <td>4.091154</td>\n",
       "      <td>138.42086</td>\n",
       "      <td>11.91912</td>\n",
       "      <td>1</td>\n",
       "    </tr>\n",
       "    <tr>\n",
       "      <th>7</th>\n",
       "      <td>0</td>\n",
       "      <td>0</td>\n",
       "      <td>0</td>\n",
       "      <td>0</td>\n",
       "      <td>0</td>\n",
       "      <td>0</td>\n",
       "      <td>0</td>\n",
       "      <td>0</td>\n",
       "      <td>0</td>\n",
       "      <td>0.0</td>\n",
       "      <td>...</td>\n",
       "      <td>2.050000</td>\n",
       "      <td>129.000000</td>\n",
       "      <td>29.000000</td>\n",
       "      <td>7.800000</td>\n",
       "      <td>25.500000</td>\n",
       "      <td>260.000000</td>\n",
       "      <td>4.100000</td>\n",
       "      <td>140.00000</td>\n",
       "      <td>12.80000</td>\n",
       "      <td>3</td>\n",
       "    </tr>\n",
       "    <tr>\n",
       "      <th>8</th>\n",
       "      <td>0</td>\n",
       "      <td>0</td>\n",
       "      <td>0</td>\n",
       "      <td>5</td>\n",
       "      <td>3</td>\n",
       "      <td>0</td>\n",
       "      <td>1</td>\n",
       "      <td>0</td>\n",
       "      <td>0</td>\n",
       "      <td>0.0</td>\n",
       "      <td>...</td>\n",
       "      <td>1.160000</td>\n",
       "      <td>326.500000</td>\n",
       "      <td>23.000000</td>\n",
       "      <td>12.300000</td>\n",
       "      <td>37.900000</td>\n",
       "      <td>226.000000</td>\n",
       "      <td>5.200000</td>\n",
       "      <td>142.00000</td>\n",
       "      <td>24.70000</td>\n",
       "      <td>3</td>\n",
       "    </tr>\n",
       "    <tr>\n",
       "      <th>9</th>\n",
       "      <td>0</td>\n",
       "      <td>0</td>\n",
       "      <td>0</td>\n",
       "      <td>3</td>\n",
       "      <td>0</td>\n",
       "      <td>0</td>\n",
       "      <td>1</td>\n",
       "      <td>0</td>\n",
       "      <td>0</td>\n",
       "      <td>0.0</td>\n",
       "      <td>...</td>\n",
       "      <td>0.830000</td>\n",
       "      <td>134.000000</td>\n",
       "      <td>28.000000</td>\n",
       "      <td>12.800000</td>\n",
       "      <td>37.200000</td>\n",
       "      <td>232.000000</td>\n",
       "      <td>3.700000</td>\n",
       "      <td>139.00000</td>\n",
       "      <td>12.80000</td>\n",
       "      <td>3</td>\n",
       "    </tr>\n",
       "    <tr>\n",
       "      <th>10</th>\n",
       "      <td>1</td>\n",
       "      <td>3</td>\n",
       "      <td>1</td>\n",
       "      <td>1</td>\n",
       "      <td>1</td>\n",
       "      <td>0</td>\n",
       "      <td>0</td>\n",
       "      <td>1</td>\n",
       "      <td>0</td>\n",
       "      <td>0.0</td>\n",
       "      <td>...</td>\n",
       "      <td>0.900000</td>\n",
       "      <td>145.500000</td>\n",
       "      <td>26.000000</td>\n",
       "      <td>11.700000</td>\n",
       "      <td>34.500000</td>\n",
       "      <td>257.000000</td>\n",
       "      <td>4.200000</td>\n",
       "      <td>137.00000</td>\n",
       "      <td>10.30000</td>\n",
       "      <td>2</td>\n",
       "    </tr>\n",
       "    <tr>\n",
       "      <th>11</th>\n",
       "      <td>1</td>\n",
       "      <td>0</td>\n",
       "      <td>1</td>\n",
       "      <td>1</td>\n",
       "      <td>1</td>\n",
       "      <td>0</td>\n",
       "      <td>0</td>\n",
       "      <td>1</td>\n",
       "      <td>0</td>\n",
       "      <td>0.0</td>\n",
       "      <td>...</td>\n",
       "      <td>1.720000</td>\n",
       "      <td>118.500000</td>\n",
       "      <td>20.000000</td>\n",
       "      <td>11.180651</td>\n",
       "      <td>33.747567</td>\n",
       "      <td>200.404226</td>\n",
       "      <td>5.050000</td>\n",
       "      <td>135.50000</td>\n",
       "      <td>11.91912</td>\n",
       "      <td>2</td>\n",
       "    </tr>\n",
       "    <tr>\n",
       "      <th>12</th>\n",
       "      <td>0</td>\n",
       "      <td>0</td>\n",
       "      <td>0</td>\n",
       "      <td>0</td>\n",
       "      <td>0</td>\n",
       "      <td>0</td>\n",
       "      <td>3</td>\n",
       "      <td>0</td>\n",
       "      <td>0</td>\n",
       "      <td>0.0</td>\n",
       "      <td>...</td>\n",
       "      <td>1.428663</td>\n",
       "      <td>115.500000</td>\n",
       "      <td>23.822608</td>\n",
       "      <td>13.800000</td>\n",
       "      <td>41.800000</td>\n",
       "      <td>199.000000</td>\n",
       "      <td>4.091154</td>\n",
       "      <td>138.42086</td>\n",
       "      <td>7.60000</td>\n",
       "      <td>1</td>\n",
       "    </tr>\n",
       "    <tr>\n",
       "      <th>13</th>\n",
       "      <td>1</td>\n",
       "      <td>0</td>\n",
       "      <td>0</td>\n",
       "      <td>1</td>\n",
       "      <td>1</td>\n",
       "      <td>0</td>\n",
       "      <td>0</td>\n",
       "      <td>1</td>\n",
       "      <td>0</td>\n",
       "      <td>0.0</td>\n",
       "      <td>...</td>\n",
       "      <td>1.130000</td>\n",
       "      <td>119.500000</td>\n",
       "      <td>29.000000</td>\n",
       "      <td>10.500000</td>\n",
       "      <td>33.100000</td>\n",
       "      <td>274.000000</td>\n",
       "      <td>4.400000</td>\n",
       "      <td>140.00000</td>\n",
       "      <td>10.30000</td>\n",
       "      <td>2</td>\n",
       "    </tr>\n",
       "  </tbody>\n",
       "</table>\n",
       "<p>10 rows × 73 columns</p>\n",
       "</div>"
      ],
      "text/plain": [
       "    elective_surgery  ethnicity  gender  hospital_admit_source  \\\n",
       "2                  0          0       1                      0   \n",
       "3                  1          0       1                      1   \n",
       "4                  0          0       0                      0   \n",
       "7                  0          0       0                      0   \n",
       "8                  0          0       0                      5   \n",
       "9                  0          0       0                      3   \n",
       "10                 1          3       1                      1   \n",
       "11                 1          0       1                      1   \n",
       "12                 0          0       0                      0   \n",
       "13                 1          0       0                      1   \n",
       "\n",
       "    icu_admit_source  icu_stay_type  icu_type  apache_post_operative  \\\n",
       "2                  0              0         0                      0   \n",
       "3                  1              0         7                      1   \n",
       "4                  0              0         0                      0   \n",
       "7                  0              0         0                      0   \n",
       "8                  3              0         1                      0   \n",
       "9                  0              0         1                      0   \n",
       "10                 1              0         0                      1   \n",
       "11                 1              0         0                      1   \n",
       "12                 0              0         3                      0   \n",
       "13                 1              0         0                      1   \n",
       "\n",
       "    arf_apache  gcs_unable_apache  ...  d1_creatinine_avg  d1_glucose_avg  \\\n",
       "2            0                0.0  ...           1.428663      144.295056   \n",
       "3            0                0.0  ...           1.428663      136.500000   \n",
       "4            0                0.0  ...           1.428663      144.295056   \n",
       "7            0                0.0  ...           2.050000      129.000000   \n",
       "8            0                0.0  ...           1.160000      326.500000   \n",
       "9            0                0.0  ...           0.830000      134.000000   \n",
       "10           0                0.0  ...           0.900000      145.500000   \n",
       "11           0                0.0  ...           1.720000      118.500000   \n",
       "12           0                0.0  ...           1.428663      115.500000   \n",
       "13           0                0.0  ...           1.130000      119.500000   \n",
       "\n",
       "    d1_hco3_avg  d1_hemaglobin_avg  d1_hematocrit_avg  d1_platelets_avg  \\\n",
       "2     23.822608          11.180651          33.747567        200.404226   \n",
       "3     23.822608          10.250000          29.950000        120.500000   \n",
       "4     23.822608          11.180651          33.747567        200.404226   \n",
       "7     29.000000           7.800000          25.500000        260.000000   \n",
       "8     23.000000          12.300000          37.900000        226.000000   \n",
       "9     28.000000          12.800000          37.200000        232.000000   \n",
       "10    26.000000          11.700000          34.500000        257.000000   \n",
       "11    20.000000          11.180651          33.747567        200.404226   \n",
       "12    23.822608          13.800000          41.800000        199.000000   \n",
       "13    29.000000          10.500000          33.100000        274.000000   \n",
       "\n",
       "    d1_potassium_avg  d1_sodium_avg  d1_wbc_avg  KMeans_Cluster  \n",
       "2           4.091154      138.42086    11.91912               3  \n",
       "3           4.250000      138.42086     8.50000               2  \n",
       "4           4.091154      138.42086    11.91912               1  \n",
       "7           4.100000      140.00000    12.80000               3  \n",
       "8           5.200000      142.00000    24.70000               3  \n",
       "9           3.700000      139.00000    12.80000               3  \n",
       "10          4.200000      137.00000    10.30000               2  \n",
       "11          5.050000      135.50000    11.91912               2  \n",
       "12          4.091154      138.42086     7.60000               1  \n",
       "13          4.400000      140.00000    10.30000               2  \n",
       "\n",
       "[10 rows x 73 columns]"
      ]
     },
     "execution_count": 80,
     "metadata": {},
     "output_type": "execute_result"
    }
   ],
   "source": [
    "#predicting values\n",
    "cluster_labels = kmeans.fit_predict(scaled_df)\n",
    "\n",
    "preds = kmeans.labels_\n",
    "kmeans_df = pd.DataFrame(df_upsampled)\n",
    "kmeans_df['KMeans_Cluster'] = preds\n",
    "kmeans_df.head(10)"
   ]
  },
  {
   "cell_type": "code",
   "execution_count": 81,
   "metadata": {},
   "outputs": [],
   "source": [
    "\n",
    "y = kmeans_df[\"diabetes_mellitus\"]\n",
    "del kmeans_df['diabetes_mellitus']\n",
    "from sklearn.model_selection import train_test_split\n",
    "\n",
    "# Train and test split\n",
    "prep_df = kmeans_df.copy().select_dtypes(include=np.number)\n",
    "\n",
    "X_train, X_val, y_train, y_val = train_test_split(prep_df,y, test_size=0.20, random_state= 20, shuffle=True )"
   ]
  },
  {
   "cell_type": "code",
   "execution_count": 82,
   "metadata": {},
   "outputs": [
    {
     "data": {
      "text/plain": [
       "(185804,)"
      ]
     },
     "execution_count": 82,
     "metadata": {},
     "output_type": "execute_result"
    }
   ],
   "source": [
    "y.shape"
   ]
  },
  {
   "cell_type": "code",
   "execution_count": 83,
   "metadata": {
    "scrolled": true
   },
   "outputs": [
    {
     "name": "stdout",
     "output_type": "stream",
     "text": [
      "Requirement already satisfied: lightgbm in c:\\programdata\\anaconda3\\lib\\site-packages (3.2.1)\n",
      "Requirement already satisfied: scikit-learn!=0.22.0 in c:\\programdata\\anaconda3\\lib\\site-packages (from lightgbm) (0.23.2)\n",
      "Requirement already satisfied: wheel in c:\\programdata\\anaconda3\\lib\\site-packages (from lightgbm) (0.35.1)\n",
      "Requirement already satisfied: numpy in c:\\programdata\\anaconda3\\lib\\site-packages (from lightgbm) (1.19.2)\n",
      "Requirement already satisfied: scipy in c:\\programdata\\anaconda3\\lib\\site-packages (from lightgbm) (1.5.2)\n",
      "Requirement already satisfied: threadpoolctl>=2.0.0 in c:\\programdata\\anaconda3\\lib\\site-packages (from scikit-learn!=0.22.0->lightgbm) (2.1.0)\n",
      "Requirement already satisfied: joblib>=0.11 in c:\\programdata\\anaconda3\\lib\\site-packages (from scikit-learn!=0.22.0->lightgbm) (0.17.0)\n",
      "\n",
      "\n",
      "\n",
      "\n",
      "\n",
      "\n"
     ]
    }
   ],
   "source": [
    "!pip install lightgbm\n",
    "import lightgbm as lgb\n",
    "from lightgbm import *\n",
    "from sklearn import metrics\n",
    "\n",
    "# LGBM classifier with score\n",
    "\n",
    "classifier = LGBMClassifier(n_estimators= 690, max_depth= 4)\n",
    "classifier.fit(X_train, y_train)\n",
    "print('\\n\\n')\n",
    "classifier.score(X_val, y_val)\n",
    "print('\\n\\n')\n",
    "classifier.fit(prep_df, y)\n",
    "#classifier.fit(train, yy)\n",
    "result = metrics.roc_auc_score(y.values, classifier.predict(prep_df))"
   ]
  },
  {
   "cell_type": "code",
   "execution_count": 84,
   "metadata": {},
   "outputs": [
    {
     "data": {
      "text/plain": [
       "0.8306451725853075"
      ]
     },
     "execution_count": 84,
     "metadata": {},
     "output_type": "execute_result"
    }
   ],
   "source": [
    "result"
   ]
  },
  {
   "cell_type": "code",
   "execution_count": 55,
   "metadata": {
    "scrolled": true
   },
   "outputs": [
    {
     "name": "stdout",
     "output_type": "stream",
     "text": [
      "Requirement already satisfied: xgboost in c:\\programdata\\anaconda3\\lib\\site-packages (1.4.1)\n",
      "Requirement already satisfied: numpy in c:\\programdata\\anaconda3\\lib\\site-packages (from xgboost) (1.19.2)\n",
      "Requirement already satisfied: scipy in c:\\programdata\\anaconda3\\lib\\site-packages (from xgboost) (1.5.2)\n",
      "[10:09:49] WARNING: C:/Users/Administrator/workspace/xgboost-win64_release_1.4.0/src/learner.cc:1095: Starting in XGBoost 1.3.0, the default evaluation metric used with the objective 'binary:logistic' was changed from 'error' to 'logloss'. Explicitly set eval_metric if you'd like to restore the old behavior.\n"
     ]
    },
    {
     "data": {
      "text/plain": [
       "0.8187616049083717"
      ]
     },
     "execution_count": 55,
     "metadata": {},
     "output_type": "execute_result"
    }
   ],
   "source": [
    "# XGBoost with score\n",
    "!pip install xgboost\n",
    "import xgboost as xgb\n",
    "from xgboost import XGBClassifier\n",
    "\n",
    "data_dmatrix = xgb.DMatrix(data=prep_df,label=y)\n",
    "#data_dmatrix = xgb.DMatrix(data=train,label=yy)\n",
    "\n",
    "model = XGBClassifier()\n",
    "model.fit(X_train, y_train)\n",
    "xbg_pred = model.predict(X_val)\n",
    "model.score(X_train,y_train)\n",
    "model.score(X_val,y_val)"
   ]
  },
  {
   "cell_type": "code",
   "execution_count": 85,
   "metadata": {},
   "outputs": [],
   "source": [
    "from sklearn.model_selection import GridSearchCV, train_test_split\n",
    "from scipy.sparse import csc_matrix\n",
    "\n",
    "X = csc_matrix(prep_df.values)\n",
    "y_ = y.values.reshape(-1, 1)\n",
    "\n",
    "X_train, X_test, y_train, y_test = train_test_split(X, y_, stratify=y_, train_size=0.75, random_state=42)"
   ]
  },
  {
   "cell_type": "code",
   "execution_count": 86,
   "metadata": {},
   "outputs": [],
   "source": [
    "from sklearn.linear_model import LogisticRegression, Ridge\n",
    "from sklearn.ensemble import RandomForestClassifier, GradientBoostingClassifier, StackingClassifier\n",
    "from sklearn.model_selection import GridSearchCV\n",
    "from sklearn.metrics import make_scorer, accuracy_score, f1_score, recall_score, precision_score\n",
    "from sklearn import metrics, model_selection\n",
    "\n",
    "scoring = {'AUC': 'roc_auc', 'Accuracy': make_scorer(accuracy_score), 'F1-score': make_scorer(f1_score), 'Recall': make_scorer(recall_score), 'Precision': make_scorer(precision_score)}\n",
    "\n",
    "def grid(estimator, scoring, cv, X, y, verbose):\n",
    "    return GridSearchCV(\n",
    "    estimator = estimator,\n",
    "    param_grid = params,\n",
    "    scoring = scoring,\n",
    "    cv = cv,\n",
    "    verbose = verbose,\n",
    "    return_train_score = True,\n",
    "    refit=\"AUC\",\n",
    "    n_jobs = -3\n",
    "    ).fit(X, y)"
   ]
  },
  {
   "cell_type": "code",
   "execution_count": 87,
   "metadata": {
    "scrolled": true
   },
   "outputs": [
    {
     "name": "stdout",
     "output_type": "stream",
     "text": [
      "Fitting 3 folds for each of 54 candidates, totalling 162 fits\n"
     ]
    },
    {
     "name": "stderr",
     "output_type": "stream",
     "text": [
      "[Parallel(n_jobs=-3)]: Using backend LokyBackend with 6 concurrent workers.\n",
      "[Parallel(n_jobs=-3)]: Done  13 tasks      | elapsed:  2.6min\n",
      "[Parallel(n_jobs=-3)]: Done  86 tasks      | elapsed: 26.5min\n",
      "[Parallel(n_jobs=-3)]: Done 162 out of 162 | elapsed: 366.9min finished\n"
     ]
    }
   ],
   "source": [
    "# Random Forest\n",
    "params = {\n",
    "    \"n_estimators\": [100, 300, 500],\n",
    "    \"max_depth\": [3, 5, 7],\n",
    "    \"min_samples_leaf\": [1, 2, 4],\n",
    "    \"min_samples_split\": [2, 4]\n",
    "  }\n",
    "\n",
    "estimator = RandomForestClassifier()\n",
    "\n",
    "rf_grid_search = grid(estimator, scoring, 3, X_train, y_train, 4)"
   ]
  },
  {
   "cell_type": "code",
   "execution_count": 89,
   "metadata": {},
   "outputs": [
    {
     "data": {
      "text/plain": [
       "RandomForestClassifier(max_depth=7, min_samples_split=4, n_estimators=300)"
      ]
     },
     "execution_count": 89,
     "metadata": {},
     "output_type": "execute_result"
    }
   ],
   "source": [
    "rf_grid_search.best_estimator_"
   ]
  },
  {
   "cell_type": "code",
   "execution_count": 91,
   "metadata": {},
   "outputs": [
    {
     "data": {
      "text/plain": [
       "0.8253909619440369"
      ]
     },
     "execution_count": 91,
     "metadata": {},
     "output_type": "execute_result"
    }
   ],
   "source": [
    "rf_grid_search.best_score_"
   ]
  },
  {
   "cell_type": "code",
   "execution_count": 92,
   "metadata": {},
   "outputs": [
    {
     "data": {
      "text/plain": [
       "{'max_depth': 7,\n",
       " 'min_samples_leaf': 1,\n",
       " 'min_samples_split': 4,\n",
       " 'n_estimators': 300}"
      ]
     },
     "execution_count": 92,
     "metadata": {},
     "output_type": "execute_result"
    }
   ],
   "source": [
    "rf_grid_search.best_params_"
   ]
  },
  {
   "cell_type": "code",
   "execution_count": 93,
   "metadata": {},
   "outputs": [],
   "source": [
    "# Train and test split\n",
    "prep_df = kmeans_df.copy().select_dtypes(include=np.number)\n",
    "\n",
    "X_train, X_val, y_train, y_val = train_test_split(prep_df, y, test_size=0.20, random_state= 20, shuffle=True )"
   ]
  },
  {
   "cell_type": "code",
   "execution_count": 95,
   "metadata": {
    "scrolled": true
   },
   "outputs": [
    {
     "name": "stdout",
     "output_type": "stream",
     "text": [
      "Fitting 3 folds for each of 4 candidates, totalling 12 fits\n"
     ]
    },
    {
     "name": "stderr",
     "output_type": "stream",
     "text": [
      "[Parallel(n_jobs=-1)]: Using backend LokyBackend with 8 concurrent workers.\n",
      "[Parallel(n_jobs=-1)]: Done   4 out of  12 | elapsed:  5.3min remaining: 10.6min\n",
      "[Parallel(n_jobs=-1)]: Done  12 out of  12 | elapsed: 26.7min finished\n"
     ]
    },
    {
     "data": {
      "text/plain": [
       "RandomizedSearchCV(cv=3,\n",
       "                   estimator=XGBRegressor(base_score=None, booster=None,\n",
       "                                          colsample_bylevel=None,\n",
       "                                          colsample_bynode=None,\n",
       "                                          colsample_bytree=None, gamma=None,\n",
       "                                          gpu_id=None, importance_type='gain',\n",
       "                                          interaction_constraints=None,\n",
       "                                          learning_rate=None,\n",
       "                                          max_delta_step=None, max_depth=None,\n",
       "                                          min_child_weight=None, missing=nan,\n",
       "                                          monotone_constraints=None,\n",
       "                                          n_estimators=100, n_jobs=None,\n",
       "                                          num_parallel_tree=None,\n",
       "                                          random_state=None, reg_alpha=None,\n",
       "                                          reg_lambda=None,\n",
       "                                          scale_pos_weight=None, subsample=None,\n",
       "                                          tree_method=None,\n",
       "                                          validate_parameters=None,\n",
       "                                          verbosity=None),\n",
       "                   n_iter=4, n_jobs=-1,\n",
       "                   param_distributions={'learning_rate': [0.15, 0.3],\n",
       "                                        'max_depth': [3, 5, 10],\n",
       "                                        'n_estimators': [500, 600, 800]},\n",
       "                   random_state=42, verbose=2)"
      ]
     },
     "execution_count": 95,
     "metadata": {},
     "output_type": "execute_result"
    }
   ],
   "source": [
    "from sklearn.model_selection import RandomizedSearchCV\n",
    "from xgboost import XGBRegressor\n",
    "\n",
    "xgbr = XGBRegressor()\n",
    "\n",
    "max_depth = [3,5,10]\n",
    "n_estimators = [500,600,800]\n",
    "learning_rate = [0.15,0.3]\n",
    "params = {\n",
    "    #Hypeparameter tuning \n",
    "    'max_depth':max_depth,\n",
    "    'n_estimators':n_estimators,\n",
    "    'learning_rate':learning_rate}\n",
    "xgbr_random = RandomizedSearchCV(estimator = xgbr, param_distributions = params, n_iter = 4, cv = 3, verbose=2, random_state=42, n_jobs = -1)\n",
    "# Fit the random search model\n",
    "xgbr_random.fit(X_train, y_train)"
   ]
  },
  {
   "cell_type": "code",
   "execution_count": 96,
   "metadata": {},
   "outputs": [
    {
     "data": {
      "text/plain": [
       "XGBRegressor(base_score=0.5, booster='gbtree', colsample_bylevel=1,\n",
       "             colsample_bynode=1, colsample_bytree=1, gamma=0, gpu_id=-1,\n",
       "             importance_type='gain', interaction_constraints='',\n",
       "             learning_rate=0.15, max_delta_step=0, max_depth=10,\n",
       "             min_child_weight=1, missing=nan, monotone_constraints='()',\n",
       "             n_estimators=800, n_jobs=8, num_parallel_tree=1, random_state=0,\n",
       "             reg_alpha=0, reg_lambda=1, scale_pos_weight=1, subsample=1,\n",
       "             tree_method='exact', validate_parameters=1, verbosity=None)"
      ]
     },
     "execution_count": 96,
     "metadata": {},
     "output_type": "execute_result"
    }
   ],
   "source": [
    "xgbr_random.best_estimator_"
   ]
  },
  {
   "cell_type": "code",
   "execution_count": 98,
   "metadata": {},
   "outputs": [
    {
     "data": {
      "text/plain": [
       "{'n_estimators': 800, 'max_depth': 10, 'learning_rate': 0.15}"
      ]
     },
     "execution_count": 98,
     "metadata": {},
     "output_type": "execute_result"
    }
   ],
   "source": [
    "xgbr_random.best_params_"
   ]
  },
  {
   "cell_type": "code",
   "execution_count": 102,
   "metadata": {},
   "outputs": [
    {
     "name": "stdout",
     "output_type": "stream",
     "text": [
      "[19:20:02] WARNING: C:/Users/Administrator/workspace/xgboost-win64_release_1.4.0/src/learner.cc:1095: Starting in XGBoost 1.3.0, the default evaluation metric used with the objective 'binary:logistic' was changed from 'error' to 'logloss'. Explicitly set eval_metric if you'd like to restore the old behavior.\n",
      "0.9827591869168382\n"
     ]
    }
   ],
   "source": [
    "# XGboost with tuning hyper parameters\n",
    "\n",
    "xgb_cls = xgb.XGBClassifier(max_depth = 10, subsample = 1, colsample_bytree = 1, colsample_bylevel = 1,\n",
    "    scale_pos_weight = 1,min_child_weight = 1,reg_alpha = 0, n_jobs = 8, objective = 'binary:logistic', gamma = 0,\n",
    "    nthread=20, seed = 27, n_estimators=800)\n",
    "\n",
    "xgb_cls.fit(X_train,y_train)\n",
    "\n",
    "y_pred = xgb_cls.predict_proba(X_val)\n",
    "y_scores=y_pred[:,1]\n",
    "fpr, tpr, threshhold = roc_curve(y_val, y_scores)\n",
    "roc_auc = auc(fpr, tpr)\n",
    "average_precision = average_precision_score(y_val, y_scores)\n",
    "precision, recall, _ = precision_recall_curve(y_val, y_scores)\n",
    "print(roc_auc)"
   ]
  },
  {
   "cell_type": "code",
   "execution_count": 103,
   "metadata": {},
   "outputs": [
    {
     "data": {
      "image/png": "[encoded data removed]",
      "text/plain": [
       "<Figure size 432x288 with 1 Axes>"
      ]
     },
     "metadata": {
      "needs_background": "light"
     },
     "output_type": "display_data"
    },
    {
     "name": "stdout",
     "output_type": "stream",
     "text": [
      "\n",
      "\n",
      "\n",
      "Area under the curve:  0.9827591869168382\n"
     ]
    }
   ],
   "source": [
    "def plot_roc_curve(fpr, tpr):\n",
    "  plt.plot(fpr, tpr, color='orange', label='ROC')\n",
    "  plt.plot([0,1],[0,1], color = 'blue', linestyle='--')\n",
    "  plt.xlabel('False positive rate')\n",
    "  plt.ylabel('True positive rate')\n",
    "  plt.title('ROC curve')\n",
    "  plt.legend()\n",
    "  plt.show()\n",
    "\n",
    "plot_roc_curve(fpr, tpr) \n",
    "print('\\n\\n')\n",
    "print('Area under the curve: ', roc_auc_score(y_val, y_scores))"
   ]
  },
  {
   "cell_type": "code",
   "execution_count": 101,
   "metadata": {
    "scrolled": true
   },
   "outputs": [
    {
     "name": "stdout",
     "output_type": "stream",
     "text": [
      "[19:11:40] WARNING: C:/Users/Administrator/workspace/xgboost-win64_release_1.4.0/src/learner.cc:1095: Starting in XGBoost 1.3.0, the default evaluation metric used with the objective 'binary:logistic' was changed from 'error' to 'logloss'. Explicitly set eval_metric if you'd like to restore the old behavior.\n",
      "0.8583115249288564\n",
      "0.8187616049083717\n",
      "0.897705496069806\n"
     ]
    },
    {
     "data": {
      "image/png": "[encoded data removed]",
      "text/plain": [
       "<Figure size 432x288 with 1 Axes>"
      ]
     },
     "metadata": {
      "needs_background": "light"
     },
     "output_type": "display_data"
    },
    {
     "name": "stdout",
     "output_type": "stream",
     "text": [
      "\n",
      "\n",
      "\n",
      "Area under the curve:  0.897705496069806\n"
     ]
    }
   ],
   "source": [
    "# XGBoost without tuning hyper parameters\n",
    "import xgboost as xgb\n",
    "from xgboost import XGBClassifier\n",
    "\n",
    "data_dmatrix = xgb.DMatrix(data=prep_df,label=y)\n",
    "#data_dmatrix = xgb.DMatrix(data=train,label=yy)\n",
    "\n",
    "model = XGBClassifier()\n",
    "model.fit(X_train, y_train)\n",
    "xbg_pred = model.predict(X_val)\n",
    "print(model.score(X_train,y_train))\n",
    "print(model.score(X_val,y_val))\n",
    "\n",
    "y_pred = model.predict_proba(X_val)\n",
    "y_scores=y_pred[:,1]\n",
    "fpr, tpr, threshhold = roc_curve(y_val, y_scores)\n",
    "roc_auc = auc(fpr, tpr)\n",
    "average_precision = average_precision_score(y_val, y_scores)\n",
    "precision, recall, _ = precision_recall_curve(y_val, y_scores)\n",
    "print(roc_auc)\n",
    "plot_roc_curve(fpr, tpr) \n",
    "print('\\n\\n')\n",
    "print('Area under the curve: ', roc_auc_score(y_val, y_scores))"
   ]
  },
  {
   "cell_type": "code",
   "execution_count": null,
   "metadata": {},
   "outputs": [],
   "source": []
  },
  {
   "cell_type": "markdown",
   "metadata": {},
   "source": [
    "Extra--- Working:::"
   ]
  },
  {
   "cell_type": "code",
   "execution_count": 38,
   "metadata": {
    "scrolled": true
   },
   "outputs": [
    {
     "data": {
      "image/png": "[encoded data removed]",
      "text/plain": [
       "<Figure size 432x288 with 1 Axes>"
      ]
     },
     "metadata": {
      "needs_background": "light"
     },
     "output_type": "display_data"
    }
   ],
   "source": [
    "#visualization of clusters Diabetes Mellitus vs BMI\n",
    "\n",
    "import seaborn as sns\n",
    "\n",
    "sns.scatterplot(kmeans_df['bmi'],kmeans_df['diabetes_mellitus'],hue='KMeans_Cluster',data=kmeans_df) \n",
    "plt.title(\"Hazard ratios of type 2 diabetes mellitus\", fontsize=15)\n",
    "plt.xlabel(\"BMI\", fontsize=12)\n",
    "plt.ylabel(\"Diabetes Mellitus\", fontsize=12)\n",
    "plt.show()"
   ]
  },
  {
   "cell_type": "code",
   "execution_count": null,
   "metadata": {},
   "outputs": [],
   "source": []
  },
  {
   "cell_type": "markdown",
   "metadata": {},
   "source": [
    "Feature creation:"
   ]
  },
  {
   "cell_type": "code",
   "execution_count": null,
   "metadata": {},
   "outputs": [],
   "source": []
  },
  {
   "cell_type": "code",
   "execution_count": 258,
   "metadata": {},
   "outputs": [],
   "source": [
    "#source https://www.omnicalculator.com/health/risk-dm\n",
    "train_df_reduced['diabete_risk'] = 100 / (1 + np.exp(-1*(0.028*train_df_reduced['age'].values + 0.661*np.where(train_df_reduced['gender'].values==\"M\", 1, 0) +\n",
    "                                   0.412 * np.where(train_df_reduced['ethnicity'].values==\"Native American\", 0, 1) +\n",
    "                                   0.079 * train_df_reduced['glucose_apache'].values + 0.018 * train_df_reduced['d1_diasbp_avg'].values +\n",
    "                                   0.07 * train_df_reduced['bmi'].values + 0.481 * train_df_reduced['cirrhosis'].values - 13.415)))\n",
    "    \n"
   ]
  }
 ],
 "metadata": {
  "colab": {
   "collapsed_sections": [],
   "name": "wids_Datathon_2021.ipynb",
   "provenance": []
  },
  "kernelspec": {
   "display_name": "Python 3",
   "language": "python",
   "name": "python3"
  },
  "language_info": {
   "codemirror_mode": {
    "name": "ipython",
    "version": 3
   },
   "file_extension": ".py",
   "mimetype": "text/x-python",
   "name": "python",
   "nbconvert_exporter": "python",
   "pygments_lexer": "ipython3",
   "version": "3.8.5"
  }
 },
 "nbformat": 4,
 "nbformat_minor": 1
}
